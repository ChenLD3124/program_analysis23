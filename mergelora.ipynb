{
 "cells": [
  {
   "cell_type": "code",
   "execution_count": 1,
   "metadata": {},
   "outputs": [
    {
     "name": "stderr",
     "output_type": "stream",
     "text": [
      "Some weights of RobertaForSequenceClassification were not initialized from the model checkpoint at /data2/chenlida/model/codebert-base and are newly initialized: ['classifier.out_proj.bias', 'classifier.dense.bias', 'classifier.dense.weight', 'classifier.out_proj.weight']\n",
      "You should probably TRAIN this model on a down-stream task to be able to use it for predictions and inference.\n"
     ]
    }
   ],
   "source": [
    "from utils import utils\n",
    "from transformers import RobertaConfig, RobertaForSequenceClassification, RobertaTokenizer\n",
    "model=RobertaForSequenceClassification.from_pretrained('/data2/chenlida/model/codebert-base')\n",
    "utils.merge_adapter_with_weight(model,['saved_models/checkpoint-best-accCODEBERTRQm_bugtype_buffer_overflow','saved_models/checkpoint-best-accCODEBERTRQm_bugtype_input_validation','saved_models/checkpoint-best-accCODEBERTRQm_bugtype_privilege_escalation_authorization','saved_models/checkpoint-best-accCODEBERTRQm_bugtype_resource_allocation_free','saved_models/checkpoint-best-accCODEBERTRQm_bugtype_value_propagation_errors'],[0.95,0.05,0,0,0],'bugtype_buffer_overflow')"
   ]
  },
  {
   "cell_type": "code",
   "execution_count": 2,
   "metadata": {},
   "outputs": [
    {
     "name": "stderr",
     "output_type": "stream",
     "text": [
      "Some weights of RobertaForSequenceClassification were not initialized from the model checkpoint at /data2/chenlida/model/codebert-base and are newly initialized: ['classifier.out_proj.bias', 'classifier.dense.bias', 'classifier.dense.weight', 'classifier.out_proj.weight']\n",
      "You should probably TRAIN this model on a down-stream task to be able to use it for predictions and inference.\n"
     ]
    }
   ],
   "source": [
    "from transformers import RobertaConfig, RobertaForSequenceClassification, RobertaTokenizer\n",
    "model=RobertaForSequenceClassification.from_pretrained('/data2/chenlida/model/codebert-base')\n",
    "utils.merge_adapter_with_weight(model,['saved_models/checkpoint-best-accCODEBERTRQm_bugtype_buffer_overflow','saved_models/checkpoint-best-accCODEBERTRQm_bugtype_input_validation','saved_models/checkpoint-best-accCODEBERTRQm_bugtype_privilege_escalation_authorization','saved_models/checkpoint-best-accCODEBERTRQm_bugtype_resource_allocation_free','saved_models/checkpoint-best-accCODEBERTRQm_bugtype_value_propagation_errors'],[0.05,0.95,0,0,0],'bugtype_input_validation')"
   ]
  },
  {
   "cell_type": "code",
   "execution_count": 3,
   "metadata": {},
   "outputs": [
    {
     "name": "stderr",
     "output_type": "stream",
     "text": [
      "Some weights of RobertaForSequenceClassification were not initialized from the model checkpoint at /data2/chenlida/model/codebert-base and are newly initialized: ['classifier.out_proj.bias', 'classifier.dense.bias', 'classifier.dense.weight', 'classifier.out_proj.weight']\n",
      "You should probably TRAIN this model on a down-stream task to be able to use it for predictions and inference.\n"
     ]
    }
   ],
   "source": [
    "from transformers import RobertaConfig, RobertaForSequenceClassification, RobertaTokenizer\n",
    "model=RobertaForSequenceClassification.from_pretrained('/data2/chenlida/model/codebert-base')\n",
    "utils.merge_adapter_with_weight(model,['saved_models/checkpoint-best-accCODEBERTRQm_bugtype_buffer_overflow','saved_models/checkpoint-best-accCODEBERTRQm_bugtype_input_validation','saved_models/checkpoint-best-accCODEBERTRQm_bugtype_privilege_escalation_authorization','saved_models/checkpoint-best-accCODEBERTRQm_bugtype_resource_allocation_free','saved_models/checkpoint-best-accCODEBERTRQm_bugtype_value_propagation_errors'],[0,0,1,0,0],'bugtype_privilege_escalation_authorization')"
   ]
  },
  {
   "cell_type": "code",
   "execution_count": 4,
   "metadata": {},
   "outputs": [
    {
     "name": "stderr",
     "output_type": "stream",
     "text": [
      "Some weights of RobertaForSequenceClassification were not initialized from the model checkpoint at /data2/chenlida/model/codebert-base and are newly initialized: ['classifier.out_proj.bias', 'classifier.dense.bias', 'classifier.dense.weight', 'classifier.out_proj.weight']\n",
      "You should probably TRAIN this model on a down-stream task to be able to use it for predictions and inference.\n"
     ]
    }
   ],
   "source": [
    "from transformers import RobertaConfig, RobertaForSequenceClassification, RobertaTokenizer\n",
    "model=RobertaForSequenceClassification.from_pretrained('/data2/chenlida/model/codebert-base')\n",
    "utils.merge_adapter_with_weight(model,['saved_models/checkpoint-best-accCODEBERTRQm_bugtype_buffer_overflow','saved_models/checkpoint-best-accCODEBERTRQm_bugtype_input_validation','saved_models/checkpoint-best-accCODEBERTRQm_bugtype_privilege_escalation_authorization','saved_models/checkpoint-best-accCODEBERTRQm_bugtype_resource_allocation_free','saved_models/checkpoint-best-accCODEBERTRQm_bugtype_value_propagation_errors'],[0,0,0,1,0],'bugtype_resource_allocation_free')"
   ]
  },
  {
   "cell_type": "code",
   "execution_count": 5,
   "metadata": {},
   "outputs": [
    {
     "name": "stderr",
     "output_type": "stream",
     "text": [
      "Some weights of RobertaForSequenceClassification were not initialized from the model checkpoint at /data2/chenlida/model/codebert-base and are newly initialized: ['classifier.out_proj.bias', 'classifier.dense.bias', 'classifier.dense.weight', 'classifier.out_proj.weight']\n",
      "You should probably TRAIN this model on a down-stream task to be able to use it for predictions and inference.\n"
     ]
    }
   ],
   "source": [
    "from transformers import RobertaConfig, RobertaForSequenceClassification, RobertaTokenizer\n",
    "model=RobertaForSequenceClassification.from_pretrained('/data2/chenlida/model/codebert-base')\n",
    "utils.merge_adapter_with_weight(model,['saved_models/checkpoint-best-accCODEBERTRQm_bugtype_buffer_overflow','saved_models/checkpoint-best-accCODEBERTRQm_bugtype_input_validation','saved_models/checkpoint-best-accCODEBERTRQm_bugtype_privilege_escalation_authorization','saved_models/checkpoint-best-accCODEBERTRQm_bugtype_resource_allocation_free','saved_models/checkpoint-best-accCODEBERTRQm_bugtype_value_propagation_errors'],[0.05,0,0,0,0.95],'bugtype_value_propagation_errors')"
   ]
  }
 ],
 "metadata": {
  "kernelspec": {
   "display_name": "base",
   "language": "python",
   "name": "python3"
  },
  "language_info": {
   "codemirror_mode": {
    "name": "ipython",
    "version": 3
   },
   "file_extension": ".py",
   "mimetype": "text/x-python",
   "name": "python",
   "nbconvert_exporter": "python",
   "pygments_lexer": "ipython3",
   "version": "3.9.18"
  }
 },
 "nbformat": 4,
 "nbformat_minor": 2
}
